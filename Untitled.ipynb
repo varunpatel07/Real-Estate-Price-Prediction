{
 "cells": [
  {
   "cell_type": "code",
   "execution_count": 2,
   "metadata": {},
   "outputs": [],
   "source": [
    "import cx_Oracle\n",
    "import datetime\n",
    "import pandas as pd\n",
    "conn=cx_Oracle.connect('varun/varun@//localhost:1521/pdborcl')\n",
    "cursor = conn.cursor()\n",
    "\n",
    "data=[]\n",
    "def get_data(reg_id,from_date,to_date):\n",
    "    cursor.execute(\"select * from CENTRAL_RRAS where EFFECTIVE_DATE between '{0}' and '{1}' and REGION_ID={2}\".format(from_date,to_date,reg_id))\n",
    "    global data\n",
    "    data=cursor.fetchall()\n",
    "\n",
    "get_data(3,'07-SEP-20','10-SEP-20')\n",
    "df=pd.DataFrame(data)\n",
    "df.rename(columns={0:\"eff_date\", 1: \"reg\",2:\"gen\",3:\"up\",4:\"down\"}, inplace=True)\n",
    "df.set_index(\"gen\",inplace=True)\n",
    "\n"
   ]
  },
  {
   "cell_type": "code",
   "execution_count": 94,
   "metadata": {},
   "outputs": [],
   "source": [
    "req_data=df.groupby(\"gen\")[\"up\",\"down\"].apply(sum)\n",
    "req_data.reset_index(inplace=True)\n",
    "req_data=req_data.values.tolist()"
   ]
  },
  {
   "cell_type": "code",
   "execution_count": 117,
   "metadata": {},
   "outputs": [
    {
     "data": {
      "text/plain": [
       "DADRIT       1\n",
       "RIHAND3      1\n",
       "RIHAND2      1\n",
       "DADRI_RF     1\n",
       "DADRI_CRF    1\n",
       "UNCHAHAR3    1\n",
       "ANTA_RF      1\n",
       "AURY_GF      1\n",
       "SINGRAULI    1\n",
       "UNCHAHAR4    1\n",
       "JHAJJAR      1\n",
       "UNCHAHAR1    1\n",
       "ANTA_CRF     1\n",
       "TANDA2       1\n",
       "AURY_CRF     1\n",
       "RIHAND1      1\n",
       "DADRI_GF     1\n",
       "AURY_LF      1\n",
       "AURY_RF      1\n",
       "UNCHAHAR2    1\n",
       "ANTA_GF      1\n",
       "DADRI_LF     1\n",
       "ANTA_LF      1\n",
       "DADRT2       1\n",
       "Name: gen, dtype: int64"
      ]
     },
     "execution_count": 117,
     "metadata": {},
     "output_type": "execute_result"
    }
   ],
   "source": [
    "req_data[\"gen\"].value_counts()\n"
   ]
  },
  {
   "cell_type": "code",
   "execution_count": 30,
   "metadata": {},
   "outputs": [
    {
     "data": {
      "text/plain": [
       "450.0"
      ]
     },
     "execution_count": 30,
     "metadata": {},
     "output_type": "execute_result"
    }
   ],
   "source": [
    "df.groupby(\"gen\").get_group(\"DADRI_RF\")[\"up\"].sum()"
   ]
  },
  {
   "cell_type": "code",
   "execution_count": 29,
   "metadata": {},
   "outputs": [
    {
     "name": "stdout",
     "output_type": "stream",
     "text": [
      "15.0\n",
      "15.0\n",
      "15.0\n",
      "15.0\n",
      "15.0\n",
      "15.0\n",
      "15.0\n",
      "15.0\n",
      "15.0\n",
      "15.0\n",
      "15.0\n",
      "15.0\n",
      "15.0\n",
      "15.0\n",
      "15.0\n",
      "15.0\n",
      "15.0\n",
      "15.0\n",
      "15.0\n",
      "15.0\n",
      "15.0\n",
      "15.0\n",
      "15.0\n",
      "15.0\n",
      "15.0\n",
      "15.0\n",
      "15.0\n",
      "15.0\n",
      "15.0\n",
      "15.0\n",
      "0\n"
     ]
    }
   ],
   "source": [
    "s=0\n",
    "df.loc[\"DADRI_RF\"][\"up\"].apply(lambda x:print(x) if x>0 else False)\n",
    "print(s)"
   ]
  },
  {
   "cell_type": "code",
   "execution_count": null,
   "metadata": {},
   "outputs": [],
   "source": []
  },
  {
   "cell_type": "code",
   "execution_count": null,
   "metadata": {},
   "outputs": [],
   "source": []
  },
  {
   "cell_type": "code",
   "execution_count": null,
   "metadata": {},
   "outputs": [],
   "source": []
  }
 ],
 "metadata": {
  "kernelspec": {
   "display_name": "Python 3",
   "language": "python",
   "name": "python3"
  },
  "language_info": {
   "codemirror_mode": {
    "name": "ipython",
    "version": 3
   },
   "file_extension": ".py",
   "mimetype": "text/x-python",
   "name": "python",
   "nbconvert_exporter": "python",
   "pygments_lexer": "ipython3",
   "version": "3.6.5"
  }
 },
 "nbformat": 4,
 "nbformat_minor": 2
}
